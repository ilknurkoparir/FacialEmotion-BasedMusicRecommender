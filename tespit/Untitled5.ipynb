{
 "cells": [
  {
   "cell_type": "code",
   "execution_count": 1,
   "id": "cbdbdd22",
   "metadata": {},
   "outputs": [],
   "source": [
    "import numpy as np # linear algebra\n",
    "import pandas as pd # data processing, CSV file I/O (e.g. pd.read_csv)\n",
    "import os\n",
    "#for dirname, _, filenames in os.walk('/kaggle/input'):\n",
    "    #for filename in filenames:\n",
    "        #print(os.path.join(dirname, filename))\n",
    "import matplotlib.pyplot as plt\n",
    "import seaborn as sns\n",
    "import tensorflow as tf\n",
    "import keras\n",
    "from keras.preprocessing import image\n",
    "from keras.models import Sequential\n",
    "from keras.layers import Conv2D, MaxPool2D, Flatten,Dense,Dropout,BatchNormalization\n",
    "from tensorflow.keras.preprocessing.image import ImageDataGenerator\n",
    "import cv2\n",
    "from tensorflow.keras.applications import VGG16, InceptionResNetV2\n",
    "from keras import regularizers\n",
    "from tensorflow.keras.optimizers import Adam,RMSprop,SGD,Adamax"
   ]
  },
  {
   "cell_type": "code",
   "execution_count": 22,
   "id": "7aa57ef8",
   "metadata": {},
   "outputs": [],
   "source": [
    "train_dir ='D:/tespit/kaggle/input/emotion-detection-fer/train' #passing the path with training images\n",
    "test_dir = 'D:/tespit/kaggle/input/emotion-detection-fer/test'   #passing the path with testing images"
   ]
  },
  {
   "cell_type": "code",
   "execution_count": 23,
   "id": "5ee6458c",
   "metadata": {},
   "outputs": [],
   "source": [
    "img_size = 48 #original size of the image"
   ]
  },
  {
   "cell_type": "code",
   "execution_count": 24,
   "id": "1cff13e2",
   "metadata": {},
   "outputs": [],
   "source": [
    "\"\"\"\n",
    "Data Augmentation\n",
    "--------------------------\n",
    "rotation_range = rotates the image with the amount of degrees we provide\n",
    "width_shift_range = shifts the image randomly to the right or left along the width of the image\n",
    "height_shift range = shifts image randomly to up or below along the height of the image\n",
    "horizontal_flip = flips the image horizontally\n",
    "rescale = to scale down the pizel values in our image between 0 and 1\n",
    "zoom_range = applies random zoom to our object\n",
    "validation_split = reserves some images to be used for validation purpose\n",
    "\"\"\"\n",
    "\n",
    "train_datagen = ImageDataGenerator(#rotation_range = 180,\n",
    "                                         width_shift_range = 0.1,\n",
    "                                         height_shift_range = 0.1,\n",
    "                                         horizontal_flip = True,\n",
    "                                         rescale = 1./255,\n",
    "                                         #zoom_range = 0.2,\n",
    "                                         validation_split = 0.2\n",
    "                                        )\n",
    "validation_datagen = ImageDataGenerator(rescale = 1./255,\n",
    "                                         validation_split = 0.2)"
   ]
  },
  {
   "cell_type": "code",
   "execution_count": 25,
   "id": "a1e16e6e",
   "metadata": {},
   "outputs": [
    {
     "name": "stdout",
     "output_type": "stream",
     "text": [
      "Found 22968 images belonging to 7 classes.\n",
      "Found 1432 images belonging to 7 classes.\n"
     ]
    }
   ],
   "source": [
    "\"\"\"\n",
    "Applying data augmentation to the images as we read \n",
    "them from their respectivve directories\n",
    "\"\"\"\n",
    "train_generator = train_datagen.flow_from_directory(directory = train_dir,\n",
    "                                                    target_size = (img_size,img_size),\n",
    "                                                    batch_size = 64,\n",
    "                                                    color_mode = \"grayscale\",\n",
    "                                                    class_mode = \"categorical\",\n",
    "                                                    subset = \"training\"\n",
    "                                                   )\n",
    "validation_generator = validation_datagen.flow_from_directory( directory = test_dir,\n",
    "                                                              target_size = (img_size,img_size),\n",
    "                                                              batch_size = 64,\n",
    "                                                              color_mode = \"grayscale\",\n",
    "                                                              class_mode = \"categorical\",\n",
    "                                                              subset = \"validation\"\n",
    "                                                             )"
   ]
  },
  {
   "cell_type": "code",
   "execution_count": 26,
   "id": "9d2c5d8f",
   "metadata": {},
   "outputs": [
    {
     "name": "stderr",
     "output_type": "stream",
     "text": [
      "WARNING:absl:`lr` is deprecated in Keras optimizer, please use `learning_rate` or use the legacy optimizer, e.g.,tf.keras.optimizers.legacy.Adam.\n"
     ]
    }
   ],
   "source": [
    "model= tf.keras.models.Sequential()\n",
    "model.add(Conv2D(32, kernel_size=(3, 3), padding='same', activation='relu', input_shape=(48, 48,1)))\n",
    "model.add(Conv2D(64,(3,3), padding='same', activation='relu' ))\n",
    "model.add(BatchNormalization())\n",
    "model.add(MaxPool2D(pool_size=(2, 2)))\n",
    "model.add(Dropout(0.25))\n",
    "\n",
    "model.add(Conv2D(128,(5,5), padding='same', activation='relu'))\n",
    "model.add(BatchNormalization())\n",
    "model.add(MaxPool2D(pool_size=(2, 2)))\n",
    "model.add(Dropout(0.25))\n",
    "    \n",
    "model.add(Conv2D(512,(3,3), padding='same', activation='relu', kernel_regularizer=regularizers.l2(0.01)))\n",
    "model.add(BatchNormalization())\n",
    "model.add(MaxPool2D(pool_size=(2, 2)))\n",
    "model.add(Dropout(0.25))\n",
    "\n",
    "model.add(Conv2D(512,(3,3), padding='same', activation='relu', kernel_regularizer=regularizers.l2(0.01)))\n",
    "model.add(BatchNormalization())\n",
    "model.add(MaxPool2D(pool_size=(2, 2)))\n",
    "model.add(Dropout(0.25))\n",
    "\n",
    "model.add(Flatten()) \n",
    "model.add(Dense(256,activation = 'relu'))\n",
    "model.add(BatchNormalization())\n",
    "model.add(Dropout(0.25))\n",
    "    \n",
    "model.add(Dense(512,activation = 'relu'))\n",
    "model.add(BatchNormalization())\n",
    "model.add(Dropout(0.25))\n",
    "\n",
    "model.add(Dense(7, activation='softmax'))\n",
    "\n",
    "model.compile(\n",
    "    optimizer = Adam(lr=0.0001), \n",
    "    loss='categorical_crossentropy', \n",
    "    metrics=['accuracy']\n",
    "  )"
   ]
  },
  {
   "cell_type": "code",
   "execution_count": 27,
   "id": "571310b8",
   "metadata": {},
   "outputs": [],
   "source": [
    "model= tf.keras.models.Sequential()\n",
    "model.add(Conv2D(32, kernel_size=(3, 3), padding='same', activation='relu', input_shape=(48, 48,1)))\n",
    "model.add(Conv2D(64,(3,3), padding='same', activation='relu' ))\n",
    "model.add(BatchNormalization())\n",
    "model.add(MaxPool2D(pool_size=(2, 2)))\n",
    "model.add(Dropout(0.25))\n",
    "\n",
    "model.add(Conv2D(128,(5,5), padding='same', activation='relu'))\n",
    "model.add(BatchNormalization())\n",
    "model.add(MaxPool2D(pool_size=(2, 2)))\n",
    "model.add(Dropout(0.25))\n",
    "    \n",
    "model.add(Conv2D(512,(3,3), padding='same', activation='relu', kernel_regularizer=regularizers.l2(0.01)))\n",
    "model.add(BatchNormalization())\n",
    "model.add(MaxPool2D(pool_size=(2, 2)))\n",
    "model.add(Dropout(0.25))\n",
    "\n",
    "model.add(Conv2D(512,(3,3), padding='same', activation='relu', kernel_regularizer=regularizers.l2(0.01)))\n",
    "model.add(BatchNormalization())\n",
    "model.add(MaxPool2D(pool_size=(2, 2)))\n",
    "model.add(Dropout(0.25))\n",
    "\n",
    "model.add(Flatten()) \n",
    "model.add(Dense(256,activation = 'relu'))\n",
    "model.add(BatchNormalization())\n",
    "model.add(Dropout(0.25))\n",
    "    \n",
    "model.add(Dense(512,activation = 'relu'))\n",
    "model.add(BatchNormalization())\n",
    "model.add(Dropout(0.25))\n",
    "\n",
    "model.add(Dense(7, activation='softmax'))\n",
    "\n",
    "model.compile(\n",
    "    optimizer = Adam(learning_rate=0.001), \n",
    "    loss='categorical_crossentropy', \n",
    "    metrics=['accuracy']\n",
    "  )"
   ]
  },
  {
   "cell_type": "code",
   "execution_count": 28,
   "id": "975908fa",
   "metadata": {},
   "outputs": [],
   "source": [
    "epochs = 60\n",
    "batch_size = 64"
   ]
  },
  {
   "cell_type": "code",
   "execution_count": 29,
   "id": "767fb20b",
   "metadata": {},
   "outputs": [
    {
     "name": "stdout",
     "output_type": "stream",
     "text": [
      "Model: \"sequential_1\"\n",
      "_________________________________________________________________\n",
      " Layer (type)                Output Shape              Param #   \n",
      "=================================================================\n",
      " conv2d_5 (Conv2D)           (None, 48, 48, 32)        320       \n",
      "                                                                 \n",
      " conv2d_6 (Conv2D)           (None, 48, 48, 64)        18496     \n",
      "                                                                 \n",
      " batch_normalization_6 (Batc  (None, 48, 48, 64)       256       \n",
      " hNormalization)                                                 \n",
      "                                                                 \n",
      " max_pooling2d_4 (MaxPooling  (None, 24, 24, 64)       0         \n",
      " 2D)                                                             \n",
      "                                                                 \n",
      " dropout_6 (Dropout)         (None, 24, 24, 64)        0         \n",
      "                                                                 \n",
      " conv2d_7 (Conv2D)           (None, 24, 24, 128)       204928    \n",
      "                                                                 \n",
      " batch_normalization_7 (Batc  (None, 24, 24, 128)      512       \n",
      " hNormalization)                                                 \n",
      "                                                                 \n",
      " max_pooling2d_5 (MaxPooling  (None, 12, 12, 128)      0         \n",
      " 2D)                                                             \n",
      "                                                                 \n",
      " dropout_7 (Dropout)         (None, 12, 12, 128)       0         \n",
      "                                                                 \n",
      " conv2d_8 (Conv2D)           (None, 12, 12, 512)       590336    \n",
      "                                                                 \n",
      " batch_normalization_8 (Batc  (None, 12, 12, 512)      2048      \n",
      " hNormalization)                                                 \n",
      "                                                                 \n",
      " max_pooling2d_6 (MaxPooling  (None, 6, 6, 512)        0         \n",
      " 2D)                                                             \n",
      "                                                                 \n",
      " dropout_8 (Dropout)         (None, 6, 6, 512)         0         \n",
      "                                                                 \n",
      " conv2d_9 (Conv2D)           (None, 6, 6, 512)         2359808   \n",
      "                                                                 \n",
      " batch_normalization_9 (Batc  (None, 6, 6, 512)        2048      \n",
      " hNormalization)                                                 \n",
      "                                                                 \n",
      " max_pooling2d_7 (MaxPooling  (None, 3, 3, 512)        0         \n",
      " 2D)                                                             \n",
      "                                                                 \n",
      " dropout_9 (Dropout)         (None, 3, 3, 512)         0         \n",
      "                                                                 \n",
      " flatten_1 (Flatten)         (None, 4608)              0         \n",
      "                                                                 \n",
      " dense_3 (Dense)             (None, 256)               1179904   \n",
      "                                                                 \n",
      " batch_normalization_10 (Bat  (None, 256)              1024      \n",
      " chNormalization)                                                \n",
      "                                                                 \n",
      " dropout_10 (Dropout)        (None, 256)               0         \n",
      "                                                                 \n",
      " dense_4 (Dense)             (None, 512)               131584    \n",
      "                                                                 \n",
      " batch_normalization_11 (Bat  (None, 512)              2048      \n",
      " chNormalization)                                                \n",
      "                                                                 \n",
      " dropout_11 (Dropout)        (None, 512)               0         \n",
      "                                                                 \n",
      " dense_5 (Dense)             (None, 7)                 3591      \n",
      "                                                                 \n",
      "=================================================================\n",
      "Total params: 4,496,903\n",
      "Trainable params: 4,492,935\n",
      "Non-trainable params: 3,968\n",
      "_________________________________________________________________\n"
     ]
    }
   ],
   "source": [
    "model.summary()"
   ]
  },
  {
   "cell_type": "code",
   "execution_count": 30,
   "id": "4442dde5",
   "metadata": {
    "scrolled": false
   },
   "outputs": [
    {
     "name": "stdout",
     "output_type": "stream",
     "text": [
      "Epoch 1/60\n",
      "359/359 [==============================] - 264s 729ms/step - loss: 5.2590 - accuracy: 0.2232 - val_loss: 2.7771 - val_accuracy: 0.1501\n",
      "Epoch 2/60\n",
      "359/359 [==============================] - 260s 724ms/step - loss: 2.2392 - accuracy: 0.3009 - val_loss: 2.4267 - val_accuracy: 0.2647\n",
      "Epoch 3/60\n",
      "359/359 [==============================] - 263s 732ms/step - loss: 2.2414 - accuracy: 0.3769 - val_loss: 2.2073 - val_accuracy: 0.4106\n",
      "Epoch 4/60\n",
      "359/359 [==============================] - 266s 741ms/step - loss: 2.2621 - accuracy: 0.4445 - val_loss: 2.1871 - val_accuracy: 0.4686\n",
      "Epoch 5/60\n",
      "359/359 [==============================] - 262s 729ms/step - loss: 2.2203 - accuracy: 0.4723 - val_loss: 2.0903 - val_accuracy: 0.4867\n",
      "Epoch 6/60\n",
      "359/359 [==============================] - 262s 730ms/step - loss: 2.1388 - accuracy: 0.4878 - val_loss: 2.0236 - val_accuracy: 0.5230\n",
      "Epoch 7/60\n",
      "359/359 [==============================] - 258s 718ms/step - loss: 2.0591 - accuracy: 0.5011 - val_loss: 2.1846 - val_accuracy: 0.4825\n",
      "Epoch 8/60\n",
      "359/359 [==============================] - 271s 755ms/step - loss: 2.0957 - accuracy: 0.5027 - val_loss: 2.1218 - val_accuracy: 0.4853\n",
      "Epoch 9/60\n",
      "359/359 [==============================] - 283s 788ms/step - loss: 2.0174 - accuracy: 0.5091 - val_loss: 1.9262 - val_accuracy: 0.5447\n",
      "Epoch 10/60\n",
      "359/359 [==============================] - 282s 785ms/step - loss: 2.0420 - accuracy: 0.5161 - val_loss: 1.8921 - val_accuracy: 0.5489\n",
      "Epoch 11/60\n",
      "359/359 [==============================] - 398s 1s/step - loss: 1.9548 - accuracy: 0.5214 - val_loss: 1.9810 - val_accuracy: 0.5251\n",
      "Epoch 12/60\n",
      "359/359 [==============================] - 281s 782ms/step - loss: 2.0056 - accuracy: 0.5258 - val_loss: 1.8271 - val_accuracy: 0.5496\n",
      "Epoch 13/60\n",
      "359/359 [==============================] - 273s 761ms/step - loss: 2.0190 - accuracy: 0.5307 - val_loss: 1.9024 - val_accuracy: 0.5279\n",
      "Epoch 14/60\n",
      "359/359 [==============================] - 287s 800ms/step - loss: 1.9483 - accuracy: 0.5322 - val_loss: 1.9205 - val_accuracy: 0.5510\n",
      "Epoch 15/60\n",
      "359/359 [==============================] - 299s 832ms/step - loss: 1.9254 - accuracy: 0.5398 - val_loss: 1.7838 - val_accuracy: 0.5726\n",
      "Epoch 16/60\n",
      "359/359 [==============================] - 303s 843ms/step - loss: 1.8472 - accuracy: 0.5444 - val_loss: 1.9702 - val_accuracy: 0.5663\n",
      "Epoch 17/60\n",
      "359/359 [==============================] - 293s 816ms/step - loss: 1.9250 - accuracy: 0.5451 - val_loss: 1.7184 - val_accuracy: 0.5775\n",
      "Epoch 18/60\n",
      "359/359 [==============================] - 290s 809ms/step - loss: 1.8495 - accuracy: 0.5488 - val_loss: 1.8431 - val_accuracy: 0.5510\n",
      "Epoch 19/60\n",
      "359/359 [==============================] - 334s 930ms/step - loss: 1.8677 - accuracy: 0.5516 - val_loss: 1.9050 - val_accuracy: 0.5677\n",
      "Epoch 20/60\n",
      "359/359 [==============================] - 310s 863ms/step - loss: 1.7770 - accuracy: 0.5549 - val_loss: 1.7010 - val_accuracy: 0.5719\n",
      "Epoch 21/60\n",
      "359/359 [==============================] - 266s 741ms/step - loss: 1.8481 - accuracy: 0.5563 - val_loss: 1.9039 - val_accuracy: 0.5608\n",
      "Epoch 22/60\n",
      "359/359 [==============================] - 258s 720ms/step - loss: 1.7617 - accuracy: 0.5565 - val_loss: 1.6594 - val_accuracy: 0.5594\n",
      "Epoch 23/60\n",
      "359/359 [==============================] - 262s 731ms/step - loss: 1.7368 - accuracy: 0.5569 - val_loss: 2.0679 - val_accuracy: 0.5768\n",
      "Epoch 24/60\n",
      "359/359 [==============================] - 270s 751ms/step - loss: 1.6921 - accuracy: 0.5662 - val_loss: 1.5621 - val_accuracy: 0.5859\n",
      "Epoch 25/60\n",
      "359/359 [==============================] - 269s 750ms/step - loss: 1.6138 - accuracy: 0.5684 - val_loss: 1.8502 - val_accuracy: 0.5510\n",
      "Epoch 26/60\n",
      "359/359 [==============================] - 264s 735ms/step - loss: 1.6121 - accuracy: 0.5728 - val_loss: 1.5437 - val_accuracy: 0.5789\n",
      "Epoch 27/60\n",
      "359/359 [==============================] - 264s 734ms/step - loss: 1.6754 - accuracy: 0.5683 - val_loss: 1.7837 - val_accuracy: 0.5531\n",
      "Epoch 28/60\n",
      "359/359 [==============================] - 263s 733ms/step - loss: 1.5998 - accuracy: 0.5727 - val_loss: 1.6141 - val_accuracy: 0.5950\n",
      "Epoch 29/60\n",
      "359/359 [==============================] - 265s 738ms/step - loss: 1.6031 - accuracy: 0.5714 - val_loss: 1.4639 - val_accuracy: 0.6103\n",
      "Epoch 30/60\n",
      "359/359 [==============================] - 273s 760ms/step - loss: 1.5891 - accuracy: 0.5738 - val_loss: 1.5298 - val_accuracy: 0.5775\n",
      "Epoch 31/60\n",
      "359/359 [==============================] - 274s 763ms/step - loss: 1.5496 - accuracy: 0.5793 - val_loss: 1.5730 - val_accuracy: 0.5831\n",
      "Epoch 32/60\n",
      "359/359 [==============================] - 269s 750ms/step - loss: 1.5443 - accuracy: 0.5825 - val_loss: 1.5300 - val_accuracy: 0.5957\n",
      "Epoch 33/60\n",
      "359/359 [==============================] - 280s 778ms/step - loss: 1.5542 - accuracy: 0.5826 - val_loss: 1.4950 - val_accuracy: 0.5943\n",
      "Epoch 34/60\n",
      "359/359 [==============================] - 273s 760ms/step - loss: 1.5527 - accuracy: 0.5829 - val_loss: 1.5041 - val_accuracy: 0.6047\n",
      "Epoch 35/60\n",
      "359/359 [==============================] - 287s 800ms/step - loss: 1.5088 - accuracy: 0.5855 - val_loss: 1.5216 - val_accuracy: 0.5740\n",
      "Epoch 36/60\n",
      "359/359 [==============================] - 316s 880ms/step - loss: 1.5114 - accuracy: 0.5831 - val_loss: 1.5801 - val_accuracy: 0.6020\n",
      "Epoch 37/60\n",
      "359/359 [==============================] - 265s 738ms/step - loss: 1.5243 - accuracy: 0.5827 - val_loss: 1.5079 - val_accuracy: 0.5978\n",
      "Epoch 38/60\n",
      "359/359 [==============================] - 266s 740ms/step - loss: 1.4920 - accuracy: 0.5883 - val_loss: 1.5091 - val_accuracy: 0.5929\n",
      "Epoch 39/60\n",
      "359/359 [==============================] - 265s 739ms/step - loss: 1.5115 - accuracy: 0.5864 - val_loss: 1.4657 - val_accuracy: 0.5929\n",
      "Epoch 40/60\n",
      "359/359 [==============================] - 257s 715ms/step - loss: 1.5258 - accuracy: 0.5904 - val_loss: 1.5834 - val_accuracy: 0.5880\n",
      "Epoch 41/60\n",
      "359/359 [==============================] - 277s 771ms/step - loss: 1.5133 - accuracy: 0.5905 - val_loss: 1.4830 - val_accuracy: 0.6068\n",
      "Epoch 42/60\n",
      "359/359 [==============================] - 263s 731ms/step - loss: 1.5290 - accuracy: 0.5916 - val_loss: 1.4984 - val_accuracy: 0.6180\n",
      "Epoch 43/60\n",
      "359/359 [==============================] - 283s 787ms/step - loss: 1.4832 - accuracy: 0.5978 - val_loss: 1.4603 - val_accuracy: 0.5915\n",
      "Epoch 44/60\n",
      "359/359 [==============================] - 272s 757ms/step - loss: 1.5203 - accuracy: 0.5902 - val_loss: 1.4281 - val_accuracy: 0.6096\n",
      "Epoch 45/60\n",
      "359/359 [==============================] - 275s 764ms/step - loss: 1.5055 - accuracy: 0.5936 - val_loss: 1.3977 - val_accuracy: 0.6138\n",
      "Epoch 46/60\n",
      "359/359 [==============================] - 274s 762ms/step - loss: 1.4789 - accuracy: 0.5971 - val_loss: 1.5735 - val_accuracy: 0.5978\n",
      "Epoch 47/60\n",
      "359/359 [==============================] - 266s 740ms/step - loss: 1.4739 - accuracy: 0.5958 - val_loss: 1.4816 - val_accuracy: 0.6082\n",
      "Epoch 48/60\n",
      "359/359 [==============================] - 269s 750ms/step - loss: 1.4751 - accuracy: 0.5972 - val_loss: 1.4256 - val_accuracy: 0.6124\n",
      "Epoch 49/60\n",
      "359/359 [==============================] - 276s 769ms/step - loss: 1.4504 - accuracy: 0.5976 - val_loss: 1.4515 - val_accuracy: 0.6027\n",
      "Epoch 50/60\n",
      "359/359 [==============================] - 281s 782ms/step - loss: 1.4881 - accuracy: 0.5979 - val_loss: 1.3996 - val_accuracy: 0.6131\n",
      "Epoch 51/60\n",
      "359/359 [==============================] - 281s 781ms/step - loss: 1.5038 - accuracy: 0.6000 - val_loss: 1.4609 - val_accuracy: 0.6166\n",
      "Epoch 52/60\n",
      "359/359 [==============================] - 266s 740ms/step - loss: 1.4347 - accuracy: 0.6003 - val_loss: 1.3834 - val_accuracy: 0.6152\n",
      "Epoch 53/60\n",
      "359/359 [==============================] - 267s 743ms/step - loss: 1.4161 - accuracy: 0.6006 - val_loss: 1.3802 - val_accuracy: 0.6138\n",
      "Epoch 54/60\n",
      "359/359 [==============================] - 264s 735ms/step - loss: 1.4441 - accuracy: 0.6060 - val_loss: 1.4419 - val_accuracy: 0.6138\n",
      "Epoch 55/60\n",
      "359/359 [==============================] - 263s 732ms/step - loss: 1.4541 - accuracy: 0.6029 - val_loss: 1.4040 - val_accuracy: 0.6131\n",
      "Epoch 56/60\n",
      "359/359 [==============================] - 263s 732ms/step - loss: 1.4303 - accuracy: 0.6071 - val_loss: 1.3515 - val_accuracy: 0.6292\n",
      "Epoch 57/60\n",
      "359/359 [==============================] - 265s 739ms/step - loss: 1.4332 - accuracy: 0.6095 - val_loss: 1.3726 - val_accuracy: 0.6257\n",
      "Epoch 58/60\n",
      "359/359 [==============================] - 273s 762ms/step - loss: 1.4035 - accuracy: 0.6078 - val_loss: 1.4094 - val_accuracy: 0.6068\n",
      "Epoch 59/60\n",
      "359/359 [==============================] - 279s 778ms/step - loss: 1.4205 - accuracy: 0.6078 - val_loss: 1.3924 - val_accuracy: 0.6131\n",
      "Epoch 60/60\n",
      "359/359 [==============================] - 279s 777ms/step - loss: 1.4533 - accuracy: 0.6075 - val_loss: 1.4069 - val_accuracy: 0.6159\n"
     ]
    }
   ],
   "source": [
    "history = model.fit(x = train_generator,epochs = epochs,validation_data = validation_generator)"
   ]
  },
  {
   "cell_type": "code",
   "execution_count": 31,
   "id": "74699dca",
   "metadata": {},
   "outputs": [
    {
     "data": {
      "image/png": "[encoded data removed]",
      "text/plain": [
       "<Figure size 1200x400 with 2 Axes>"
      ]
     },
     "metadata": {},
     "output_type": "display_data"
    }
   ],
   "source": [
    "fig , ax = plt.subplots(1,2)\n",
    "train_acc = history.history['accuracy']\n",
    "train_loss = history.history['loss']\n",
    "fig.set_size_inches(12,4)\n",
    "\n",
    "ax[0].plot(history.history['accuracy'])\n",
    "ax[0].plot(history.history['val_accuracy'])\n",
    "ax[0].set_title('Training Accuracy vs Validation Accuracy')\n",
    "ax[0].set_ylabel('Accuracy')\n",
    "ax[0].set_xlabel('Epoch')\n",
    "ax[0].legend(['Train', 'Validation'], loc='upper left')\n",
    "\n",
    "ax[1].plot(history.history['loss'])\n",
    "ax[1].plot(history.history['val_loss'])\n",
    "ax[1].set_title('Training Loss vs Validation Loss')\n",
    "ax[1].set_ylabel('Loss')\n",
    "ax[1].set_xlabel('Epoch')\n",
    "ax[1].legend(['Train', 'Validation'], loc='upper left')\n",
    "\n",
    "plt.show()"
   ]
  },
  {
   "cell_type": "code",
   "execution_count": 32,
   "id": "82395760",
   "metadata": {},
   "outputs": [],
   "source": [
    "model.save('model_optimal.h5')"
   ]
  },
  {
   "cell_type": "code",
   "execution_count": 35,
   "id": "c7ab9fe8",
   "metadata": {},
   "outputs": [
    {
     "data": {
      "image/png": "[encoded data removed]",
      "text/plain": [
       "<Figure size 640x480 with 1 Axes>"
      ]
     },
     "metadata": {},
     "output_type": "display_data"
    },
    {
     "name": "stdout",
     "output_type": "stream",
     "text": [
      "(48, 48)\n"
     ]
    }
   ],
   "source": [
    "from PIL import Image\n",
    "import numpy as np\n",
    "import matplotlib.pyplot as plt\n",
    "\n",
    "# Dosya yolunu belirtin\n",
    "file_path = 'D:/tespit/kaggle/input/emotion-detection-fer/test/happy/PrivateTest_95094.jpg'\n",
    "\n",
    "# Görüntüyü yükleyin\n",
    "img = Image.open(file_path).convert('L')\n",
    "\n",
    "# Görüntüyü istenen boyuta yeniden boyutlandırın\n",
    "img = img.resize((48, 48))\n",
    "\n",
    "# Görüntüyü diziye dönüştürün\n",
    "img = np.array(img)\n",
    "\n",
    "# Görüntüyü gösterin\n",
    "plt.imshow(img, cmap='gray')\n",
    "plt.show()\n",
    "\n",
    "# Görüntü dizisinin şeklini yazdırın\n",
    "print(img.shape)"
   ]
  },
  {
   "cell_type": "code",
   "execution_count": 36,
   "id": "8c1f7ed7",
   "metadata": {},
   "outputs": [],
   "source": [
    "label_dict = {0:'Angry',1:'Disgust',2:'Fear',3:'Happy',4:'Neutral',5:'Sad',6:'Surprise'}"
   ]
  },
  {
   "cell_type": "code",
   "execution_count": 37,
   "id": "4f116852",
   "metadata": {},
   "outputs": [
    {
     "name": "stdout",
     "output_type": "stream",
     "text": [
      "1/1 [==============================] - 0s 338ms/step\n",
      "[1.4770139e-15, 0.0, 0.00040027365, 5.027601e-11, 1.5956571e-22, 6.0380825e-26, 0.99959975]\n"
     ]
    }
   ],
   "source": [
    "img = np.expand_dims(img,axis = 0) #makes image shape (1,48,48)\n",
    "img = img.reshape(1,48,48,1)\n",
    "result = model.predict(img)\n",
    "result = list(result[0])\n",
    "print(result)"
   ]
  },
  {
   "cell_type": "code",
   "execution_count": 38,
   "id": "98442065",
   "metadata": {},
   "outputs": [
    {
     "name": "stdout",
     "output_type": "stream",
     "text": [
      "Surprise\n"
     ]
    }
   ],
   "source": [
    "img_index = result.index(max(result))\n",
    "print(label_dict[img_index])\n",
    "plt.show()"
   ]
  },
  {
   "cell_type": "code",
   "execution_count": 39,
   "id": "513fc38a",
   "metadata": {},
   "outputs": [
    {
     "name": "stdout",
     "output_type": "stream",
     "text": [
      "359/359 [==============================] - 45s 125ms/step - loss: 1.3643 - accuracy: 0.6240\n",
      "23/23 [==============================] - 3s 136ms/step - loss: 1.4069 - accuracy: 0.6159\n",
      "final train accuracy = 62.40 , validation accuracy = 61.59\n"
     ]
    }
   ],
   "source": [
    "train_loss, train_acc = model.evaluate(train_generator)\n",
    "test_loss, test_acc   = model.evaluate(validation_generator)\n",
    "print(\"final train accuracy = {:.2f} , validation accuracy = {:.2f}\".format(train_acc*100, test_acc*100))"
   ]
  },
  {
   "cell_type": "code",
   "execution_count": 40,
   "id": "85d5e49d",
   "metadata": {},
   "outputs": [],
   "source": [
    "model.save_weights('model1_weights.h5')"
   ]
  },
  {
   "cell_type": "code",
   "execution_count": null,
   "id": "db049a95",
   "metadata": {},
   "outputs": [],
   "source": []
  }
 ],
 "metadata": {
  "kernelspec": {
   "display_name": "Python 3 (ipykernel)",
   "language": "python",
   "name": "python3"
  },
  "language_info": {
   "codemirror_mode": {
    "name": "ipython",
    "version": 3
   },
   "file_extension": ".py",
   "mimetype": "text/x-python",
   "name": "python",
   "nbconvert_exporter": "python",
   "pygments_lexer": "ipython3",
   "version": "3.10.9"
  }
 },
 "nbformat": 4,
 "nbformat_minor": 5
}
